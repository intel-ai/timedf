{
 "cells": [
  {
   "cell_type": "code",
   "execution_count": 1,
   "metadata": {},
   "outputs": [],
   "source": [
    "import datetime\n",
    "\n",
    "import pandas as pd \n",
    "\n",
    "from report.report import Db\n",
    "from utils_base_env import DbConfig\n",
    "\n",
    "from IPython.display import display\n",
    "from ipywidgets import interact, interactive, fixed, interact_manual\n",
    "import ipywidgets as widgets"
   ]
  },
  {
   "cell_type": "code",
   "execution_count": 2,
   "metadata": {},
   "outputs": [
    {
     "name": "stdout",
     "output_type": "stream",
     "text": [
      "Requirement already satisfied: jinja2 in /localdisk/ekrivov/miniconda3/envs/hm/lib/python3.8/site-packages (3.1.2)\n",
      "Requirement already satisfied: ipywidgets in /localdisk/ekrivov/miniconda3/envs/hm/lib/python3.8/site-packages (8.0.4)\n",
      "Requirement already satisfied: MarkupSafe>=2.0 in /localdisk/ekrivov/miniconda3/envs/hm/lib/python3.8/site-packages (from jinja2) (2.1.2)\n",
      "Requirement already satisfied: traitlets>=4.3.1 in /nfs/site/home/ekrivov/.local/lib/python3.8/site-packages (from ipywidgets) (5.5.0)\n",
      "Requirement already satisfied: ipython>=6.1.0 in /nfs/site/home/ekrivov/.local/lib/python3.8/site-packages (from ipywidgets) (8.6.0)\n",
      "Requirement already satisfied: jupyterlab-widgets~=3.0 in /localdisk/ekrivov/miniconda3/envs/hm/lib/python3.8/site-packages (from ipywidgets) (3.0.5)\n",
      "Requirement already satisfied: ipykernel>=4.5.1 in /nfs/site/home/ekrivov/.local/lib/python3.8/site-packages (from ipywidgets) (6.17.1)\n",
      "Requirement already satisfied: widgetsnbextension~=4.0 in /localdisk/ekrivov/miniconda3/envs/hm/lib/python3.8/site-packages (from ipywidgets) (4.0.5)\n",
      "Requirement already satisfied: jupyter-client>=6.1.12 in /nfs/site/home/ekrivov/.local/lib/python3.8/site-packages (from ipykernel>=4.5.1->ipywidgets) (7.4.7)\n",
      "Requirement already satisfied: pyzmq>=17 in /nfs/site/home/ekrivov/.local/lib/python3.8/site-packages (from ipykernel>=4.5.1->ipywidgets) (24.0.1)\n",
      "Requirement already satisfied: nest-asyncio in /nfs/site/home/ekrivov/.local/lib/python3.8/site-packages (from ipykernel>=4.5.1->ipywidgets) (1.5.6)\n",
      "Requirement already satisfied: tornado>=6.1 in /nfs/site/home/ekrivov/.local/lib/python3.8/site-packages (from ipykernel>=4.5.1->ipywidgets) (6.2)\n",
      "Requirement already satisfied: packaging in /localdisk/ekrivov/miniconda3/envs/hm/lib/python3.8/site-packages (from ipykernel>=4.5.1->ipywidgets) (22.0)\n",
      "Requirement already satisfied: matplotlib-inline>=0.1 in /nfs/site/home/ekrivov/.local/lib/python3.8/site-packages (from ipykernel>=4.5.1->ipywidgets) (0.1.6)\n",
      "Requirement already satisfied: debugpy>=1.0 in /nfs/site/home/ekrivov/.local/lib/python3.8/site-packages (from ipykernel>=4.5.1->ipywidgets) (1.6.3)\n",
      "Requirement already satisfied: psutil in /localdisk/ekrivov/miniconda3/envs/hm/lib/python3.8/site-packages (from ipykernel>=4.5.1->ipywidgets) (5.9.0)\n",
      "Requirement already satisfied: backcall in /nfs/site/home/ekrivov/.local/lib/python3.8/site-packages (from ipython>=6.1.0->ipywidgets) (0.2.0)\n",
      "Requirement already satisfied: prompt-toolkit<3.1.0,>3.0.1 in /nfs/site/home/ekrivov/.local/lib/python3.8/site-packages (from ipython>=6.1.0->ipywidgets) (3.0.33)\n",
      "Requirement already satisfied: jedi>=0.16 in /nfs/site/home/ekrivov/.local/lib/python3.8/site-packages (from ipython>=6.1.0->ipywidgets) (0.18.2)\n",
      "Requirement already satisfied: pexpect>4.3 in /localdisk/ekrivov/miniconda3/envs/hm/lib/python3.8/site-packages (from ipython>=6.1.0->ipywidgets) (4.8.0)\n",
      "Requirement already satisfied: pygments>=2.4.0 in /nfs/site/home/ekrivov/.local/lib/python3.8/site-packages (from ipython>=6.1.0->ipywidgets) (2.13.0)\n",
      "Requirement already satisfied: stack-data in /nfs/site/home/ekrivov/.local/lib/python3.8/site-packages (from ipython>=6.1.0->ipywidgets) (0.6.1)\n",
      "Requirement already satisfied: pickleshare in /nfs/site/home/ekrivov/.local/lib/python3.8/site-packages (from ipython>=6.1.0->ipywidgets) (0.7.5)\n",
      "Requirement already satisfied: decorator in /nfs/site/home/ekrivov/.local/lib/python3.8/site-packages (from ipython>=6.1.0->ipywidgets) (5.1.1)\n",
      "Requirement already satisfied: parso<0.9.0,>=0.8.0 in /nfs/site/home/ekrivov/.local/lib/python3.8/site-packages (from jedi>=0.16->ipython>=6.1.0->ipywidgets) (0.8.3)\n",
      "Requirement already satisfied: jupyter-core>=4.9.2 in /nfs/site/home/ekrivov/.local/lib/python3.8/site-packages (from jupyter-client>=6.1.12->ipykernel>=4.5.1->ipywidgets) (5.0.0)\n",
      "Requirement already satisfied: python-dateutil>=2.8.2 in /nfs/site/home/ekrivov/.local/lib/python3.8/site-packages (from jupyter-client>=6.1.12->ipykernel>=4.5.1->ipywidgets) (2.8.2)\n",
      "Requirement already satisfied: entrypoints in /localdisk/ekrivov/miniconda3/envs/hm/lib/python3.8/site-packages (from jupyter-client>=6.1.12->ipykernel>=4.5.1->ipywidgets) (0.4)\n",
      "Requirement already satisfied: ptyprocess>=0.5 in /localdisk/ekrivov/miniconda3/envs/hm/lib/python3.8/site-packages (from pexpect>4.3->ipython>=6.1.0->ipywidgets) (0.7.0)\n",
      "Requirement already satisfied: wcwidth in /nfs/site/home/ekrivov/.local/lib/python3.8/site-packages (from prompt-toolkit<3.1.0,>3.0.1->ipython>=6.1.0->ipywidgets) (0.2.5)\n",
      "Requirement already satisfied: asttokens>=2.1.0 in /nfs/site/home/ekrivov/.local/lib/python3.8/site-packages (from stack-data->ipython>=6.1.0->ipywidgets) (2.1.0)\n",
      "Requirement already satisfied: executing>=1.2.0 in /nfs/site/home/ekrivov/.local/lib/python3.8/site-packages (from stack-data->ipython>=6.1.0->ipywidgets) (1.2.0)\n",
      "Requirement already satisfied: pure-eval in /nfs/site/home/ekrivov/.local/lib/python3.8/site-packages (from stack-data->ipython>=6.1.0->ipywidgets) (0.2.2)\n",
      "Requirement already satisfied: six in /localdisk/ekrivov/miniconda3/envs/hm/lib/python3.8/site-packages (from asttokens>=2.1.0->stack-data->ipython>=6.1.0->ipywidgets) (1.16.0)\n",
      "Requirement already satisfied: platformdirs in /nfs/site/home/ekrivov/.local/lib/python3.8/site-packages (from jupyter-core>=4.9.2->jupyter-client>=6.1.12->ipykernel>=4.5.1->ipywidgets) (2.5.4)\n"
     ]
    }
   ],
   "source": [
    "!pip install jinja2 ipywidgets"
   ]
  },
  {
   "cell_type": "code",
   "execution_count": 3,
   "metadata": {},
   "outputs": [],
   "source": [
    "db_config = DbConfig(\n",
    "    driver='mysql+mysqlconnector',\n",
    "    server='ansatlin07.an.intel.com',\n",
    "    port=3306,\n",
    "    user='gashiman',\n",
    "    password='omniscidb',\n",
    "    name='omniscidb',\n",
    ")\n",
    "\n",
    "engine = db_config.create_engine(future=False)\n",
    "db = Db(engine=engine)"
   ]
  },
  {
   "cell_type": "code",
   "execution_count": 4,
   "metadata": {},
   "outputs": [],
   "source": [
    "from collections import Counter\n",
    "\n",
    "\n",
    "def get_available_parent_prefixes(queries):\n",
    "    \"\"\"Learn parent prefixes for benchmarks with hierarchical measurements.\"\"\"\n",
    "    parent_prefixes = Counter('.'.join(tuple(n.split('.')[:-1])) for n in sorted(queries))\n",
    "    parent_prefixes.pop('')\n",
    "\n",
    "    print('Prefix parents:', sorted(parent_prefixes))\n",
    "    return parent_prefixes\n",
    "\n",
    "\n",
    "def filter_by_prefix(m_names, prefix: str):\n",
    "    if prefix is None:\n",
    "        return m_names\n",
    "    prefix_splitter = tuple(prefix.split('.'))\n",
    "    return [m for m in m_names if tuple(m.split('.')[:-1]) == prefix_splitter]\n",
    "\n",
    "\n",
    "def build_table(df, baseline_id, selected_ids, chosen_prefix, selected_queries):\n",
    "    \"\"\"Build table that's good for visualization\"\"\"\n",
    "    # Get version that's good at visuals\n",
    "    table = pd.DataFrame()\n",
    "\n",
    "    # baseline cols\n",
    "    table['baseline'] = df.loc[baseline_id, [*selected_queries]]\n",
    "    if chosen_prefix:\n",
    "        table['baseline_parent_share'] = df.loc[baseline_id, selected_queries].T / df.loc[baseline_id, chosen_prefix]\n",
    "\n",
    "    # write result cols\n",
    "    for i in selected_ids:\n",
    "        name = f'{df.loc[i, \"pandas_mode\"].replace(\"Modin_on_\", \"\")}_{i}' \n",
    "        table[name] = df.loc[i, selected_queries]\n",
    "        table[f'{i}_delta'] = table[name] - table['baseline']\n",
    "        if chosen_prefix:\n",
    "            table[f'{i}_delta_share'] = (table[name] - table['baseline']) / (table.loc[chosen_prefix, name] - table.loc[chosen_prefix, 'baseline'])\n",
    "    \n",
    "    # for i in selected_ids:\n",
    "    #     table.loc['pandas_mode', f'{i}, s'] = df.loc[i, 'pandas_mode']\n",
    "\n",
    "    return table\n",
    "\n",
    "def delta2color(v):\n",
    "    if v < 0:\n",
    "        c = 'green;'\n",
    "    elif v > 60:\n",
    "        c = 'red'\n",
    "    else:\n",
    "        c = '#c1c286'\n",
    "    return f'color:{c};'\n",
    "\n",
    "\n",
    "def display_styled(table, selected_ids):\n",
    "    cell_hover = {  # for row hover use <tr> instead of <td>\n",
    "        'selector': 'td:hover',\n",
    "        'props': [('background-color', '#ffffb3')]\n",
    "    }\n",
    "    index_names = {\n",
    "        'selector': '.index_name',\n",
    "        'props': 'font-style: italic; color: darkgrey; font-weight:normal;'\n",
    "    }\n",
    "    headers = {\n",
    "        'selector': 'th:not(.index_name)',\n",
    "        'props': 'background-color: #000066; color: white;'\n",
    "    }\n",
    "\n",
    "    display(table\n",
    "        .style\n",
    "        # .applymap(lambda v: 'color:red;' if v > 0.25 else 'color:green;', subset=['baseline_parent_share'])\n",
    "        .applymap(delta2color, subset=[c for c in table.columns if c.endswith('delta')])\n",
    "        .background_gradient(axis=0, vmin=0, vmax=1, cmap=\"YlOrRd\", subset=[c for c in table.columns if c.endswith('_share')])\n",
    "        .applymap_index(lambda v: 'text-align:left;')\n",
    "        .format('{:.1f}', subset=[c for c in table.columns if not c.endswith('share')])\n",
    "        .format('{:.1%}', subset=[c for c in table.columns if 'speedup' in c or c.endswith('ratio') or c.endswith('share')])\n",
    "        .set_table_styles([cell_hover, index_names, headers])\n",
    "    )"
   ]
  },
  {
   "cell_type": "code",
   "execution_count": 5,
   "metadata": {},
   "outputs": [
    {
     "name": "stdout",
     "output_type": "stream",
     "text": [
      "Available benchmarks: ['taxi_ml', 'ny_taxi', 'census', 'h2o', 'plasticc', 'hm_fashion_recs']\n"
     ]
    }
   ],
   "source": [
    "print('Available benchmarks:', db.load_benchmarks())"
   ]
  },
  {
   "cell_type": "code",
   "execution_count": 7,
   "metadata": {},
   "outputs": [
    {
     "name": "stdout",
     "output_type": "stream",
     "text": [
      "Prefix parents: ['total', 'total.02-create_user_ohe_agg', 'total.03-fe', 'total.03-fe.03-candidates', 'total.03-fe.04-attach_features']\n"
     ]
    },
    {
     "data": {
      "application/vnd.jupyter.widget-view+json": {
       "model_id": "c62274203f9748c6b372d0b8e88dd8ce",
       "version_major": 2,
       "version_minor": 0
      },
      "text/plain": [
       "interactive(children=(RadioButtons(description='Prefix', options=('total', 'total.02-create_user_ohe_agg', 'to…"
      ]
     },
     "metadata": {},
     "output_type": "display_data"
    }
   ],
   "source": [
    "BENCHMARK = 'hm_fashion_recs'\n",
    "\n",
    "df, queries = db.load_benchmark_results(BENCHMARK)\n",
    "parent_prefixes = get_available_parent_prefixes(queries) or [None]\n",
    "\n",
    "@interact(\n",
    "    chosen_prefix=widgets.RadioButtons(\n",
    "        options=list(parent_prefixes),\n",
    "        # value=list(parent_prefixes)[0],\n",
    "        description='Prefix',\n",
    "        default=1,\n",
    "        disabled=False,\n",
    "    )\n",
    ")\n",
    "def interactive_table(chosen_prefix):\n",
    "    df, measurements = db.load_benchmark_results(benchmark=BENCHMARK)\n",
    "    df['latest'] = df.groupby('pandas_mode')['date'].transform('rank', ascending=False)\n",
    "\n",
    "    # Select baseline\n",
    "    baseline_id = df[df.pandas_mode == 'Pandas'].index[-1]\n",
    "\n",
    "    # Select latest results for along with the benchmark, you can replace with hardcoded ids\n",
    "    n_top = 3\n",
    "    selected_ids = list(df[df['latest'] <= n_top].index)\n",
    "\n",
    "    # Measurements that we are interested in\n",
    "    # chosen_prefix = 'total.02-create_user_ohe_agg'\n",
    "    selected_measurements = [chosen_prefix] if chosen_prefix else []\n",
    "    selected_measurements.extend(filter_by_prefix(measurements, prefix=chosen_prefix))\n",
    "    print(selected_measurements)\n",
    "\n",
    "    # build table for visuals\n",
    "    table = build_table(df, baseline_id, selected_ids, chosen_prefix, selected_measurements)\n",
    "\n",
    "    # Styling\n",
    "    display_styled(table, selected_ids)"
   ]
  },
  {
   "cell_type": "code",
   "execution_count": null,
   "metadata": {},
   "outputs": [],
   "source": []
  }
 ],
 "metadata": {
  "kernelspec": {
   "display_name": "hm",
   "language": "python",
   "name": "python3"
  },
  "language_info": {
   "codemirror_mode": {
    "name": "ipython",
    "version": 3
   },
   "file_extension": ".py",
   "mimetype": "text/x-python",
   "name": "python",
   "nbconvert_exporter": "python",
   "pygments_lexer": "ipython3",
   "version": "3.8.15"
  },
  "orig_nbformat": 4,
  "vscode": {
   "interpreter": {
    "hash": "cc12164571e063f52a452a1b560f958433b23023b6e08ab4eb3eb80a1d763dc3"
   }
  }
 },
 "nbformat": 4,
 "nbformat_minor": 2
}
