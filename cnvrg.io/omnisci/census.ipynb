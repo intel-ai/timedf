{
 "cells": [
  {
   "cell_type": "code",
   "execution_count": 1,
   "id": "65727a1f-db05-4208-9218-f38337f7d882",
   "metadata": {},
   "outputs": [
    {
     "name": "stderr",
     "output_type": "stream",
     "text": [
      "FutureWarning: \n",
      "Scikit-learn patching with daal4py is deprecated and will be removed in the future.\n",
      "Use Intel(R) Extension for Scikit-learn* module instead (pip install scikit-learn-intelex).\n",
      "To enable patching, please use one of the following options:\n",
      "1) From the command line:\n",
      "    python -m sklearnex <your_script>\n",
      "2) From your script:\n",
      "    from sklearnex import patch_sklearn\n",
      "    patch_sklearn()\n",
      "Intel(R) oneAPI Data Analytics Library solvers for sklearn enabled: https://intelpython.github.io/daal4py/sklearn.html\n"
     ]
    }
   ],
   "source": [
    "import os\n",
    "import sys\n",
    "import time\n",
    "import modin.pandas as pd\n",
    "from modin.experimental.engines.omnisci_on_ray.frame.omnisci_worker import OmnisciServer\n",
    "\n",
    "from sklearn import config_context\n",
    "import daal4py.sklearn as sklearn\n",
    "\n",
    "sklearn.patch_sklearn()\n",
    "from sklearn.model_selection import train_test_split\n",
    "import sklearn.linear_model as lm\n",
    "import numpy as np\n",
    "\n",
    "\n",
    "def read(filename):\n",
    "    columns_names = [\n",
    "        \"YEAR0\",\n",
    "        \"DATANUM\",\n",
    "        \"SERIAL\",\n",
    "        \"CBSERIAL\",\n",
    "        \"HHWT\",\n",
    "        \"CPI99\",\n",
    "        \"GQ\",\n",
    "        \"QGQ\",\n",
    "        \"PERNUM\",\n",
    "        \"PERWT\",\n",
    "        \"SEX\",\n",
    "        \"AGE\",\n",
    "        \"EDUC\",\n",
    "        \"EDUCD\",\n",
    "        \"INCTOT\",\n",
    "        \"SEX_HEAD\",\n",
    "        \"SEX_MOM\",\n",
    "        \"SEX_POP\",\n",
    "        \"SEX_SP\",\n",
    "        \"SEX_MOM2\",\n",
    "        \"SEX_POP2\",\n",
    "        \"AGE_HEAD\",\n",
    "        \"AGE_MOM\",\n",
    "        \"AGE_POP\",\n",
    "        \"AGE_SP\",\n",
    "        \"AGE_MOM2\",\n",
    "        \"AGE_POP2\",\n",
    "        \"EDUC_HEAD\",\n",
    "        \"EDUC_MOM\",\n",
    "        \"EDUC_POP\",\n",
    "        \"EDUC_SP\",\n",
    "        \"EDUC_MOM2\",\n",
    "        \"EDUC_POP2\",\n",
    "        \"EDUCD_HEAD\",\n",
    "        \"EDUCD_MOM\",\n",
    "        \"EDUCD_POP\",\n",
    "        \"EDUCD_SP\",\n",
    "        \"EDUCD_MOM2\",\n",
    "        \"EDUCD_POP2\",\n",
    "        \"INCTOT_HEAD\",\n",
    "        \"INCTOT_MOM\",\n",
    "        \"INCTOT_POP\",\n",
    "        \"INCTOT_SP\",\n",
    "        \"INCTOT_MOM2\",\n",
    "        \"INCTOT_POP2\",\n",
    "    ]\n",
    "    columns_types = [\n",
    "        \"int64\",\n",
    "        \"int64\",\n",
    "        \"int64\",\n",
    "        \"float64\",\n",
    "        \"int64\",\n",
    "        \"float64\",\n",
    "        \"int64\",\n",
    "        \"float64\",\n",
    "        \"int64\",\n",
    "        \"int64\",\n",
    "        \"int64\",\n",
    "        \"int64\",\n",
    "        \"int64\",\n",
    "        \"int64\",\n",
    "        \"int64\",\n",
    "        \"float64\",\n",
    "        \"float64\",\n",
    "        \"float64\",\n",
    "        \"float64\",\n",
    "        \"float64\",\n",
    "        \"float64\",\n",
    "        \"float64\",\n",
    "        \"float64\",\n",
    "        \"float64\",\n",
    "        \"float64\",\n",
    "        \"float64\",\n",
    "        \"float64\",\n",
    "        \"float64\",\n",
    "        \"float64\",\n",
    "        \"float64\",\n",
    "        \"float64\",\n",
    "        \"float64\",\n",
    "        \"float64\",\n",
    "        \"float64\",\n",
    "        \"float64\",\n",
    "        \"float64\",\n",
    "        \"float64\",\n",
    "        \"float64\",\n",
    "        \"float64\",\n",
    "        \"float64\",\n",
    "        \"float64\",\n",
    "        \"float64\",\n",
    "        \"float64\",\n",
    "        \"float64\",\n",
    "        \"float64\",\n",
    "    ]\n",
    "    dtypes = {columns_names[i]: columns_types[i] for i in range(len(columns_names))}\n",
    "\n",
    "    df = pd.read_csv(\n",
    "        filename,\n",
    "        names=columns_names,\n",
    "        dtype=dtypes,\n",
    "        skiprows=1,\n",
    "    )\n",
    "\n",
    "    df.shape  # to trigger real execution\n",
    "    df._query_compiler._modin_frame._partitions[0][\n",
    "        0\n",
    "    ].frame_id = OmnisciServer().put_arrow_to_omnisci(\n",
    "        df._query_compiler._modin_frame._partitions[0][0].get()\n",
    "    )  # to trigger real execution\n",
    "    return df\n",
    "\n",
    "\n",
    "def etl(df):\n",
    "    keep_cols = [\n",
    "        \"YEAR0\",\n",
    "        \"DATANUM\",\n",
    "        \"SERIAL\",\n",
    "        \"CBSERIAL\",\n",
    "        \"HHWT\",\n",
    "        \"CPI99\",\n",
    "        \"GQ\",\n",
    "        \"PERNUM\",\n",
    "        \"SEX\",\n",
    "        \"AGE\",\n",
    "        \"INCTOT\",\n",
    "        \"EDUC\",\n",
    "        \"EDUCD\",\n",
    "        \"EDUC_HEAD\",\n",
    "        \"EDUC_POP\",\n",
    "        \"EDUC_MOM\",\n",
    "        \"EDUCD_MOM2\",\n",
    "        \"EDUCD_POP2\",\n",
    "        \"INCTOT_MOM\",\n",
    "        \"INCTOT_POP\",\n",
    "        \"INCTOT_MOM2\",\n",
    "        \"INCTOT_POP2\",\n",
    "        \"INCTOT_HEAD\",\n",
    "        \"SEX_HEAD\",\n",
    "    ]\n",
    "    df = df[keep_cols]\n",
    "\n",
    "    df = df[df[\"INCTOT\"] != 9999999]\n",
    "    df = df[df[\"EDUC\"] != -1]\n",
    "    df = df[df[\"EDUCD\"] != -1]\n",
    "\n",
    "    df[\"INCTOT\"] = df[\"INCTOT\"] * df[\"CPI99\"]\n",
    "\n",
    "    for column in keep_cols:\n",
    "        df[column] = df[column].fillna(-1)\n",
    "\n",
    "        df[column] = df[column].astype(\"float64\")\n",
    "\n",
    "    y = df[\"EDUC\"]\n",
    "    X = df.drop(columns=[\"EDUC\", \"CPI99\"])\n",
    "\n",
    "    # to trigger real execution\n",
    "    df.shape\n",
    "    y.shape\n",
    "    X.shape\n",
    "\n",
    "    return (df, X, y)\n",
    "\n",
    "\n",
    "def mse(y_test, y_pred):\n",
    "    return ((y_test - y_pred) ** 2).mean()\n",
    "\n",
    "\n",
    "def cod(y_test, y_pred):\n",
    "    y_bar = y_test.mean()\n",
    "    total = ((y_test - y_bar) ** 2).sum()\n",
    "    residuals = ((y_test - y_pred) ** 2).sum()\n",
    "    return 1 - (residuals / total)\n",
    "\n",
    "\n",
    "def ml(X, y, random_state, n_runs, test_size):\n",
    "    clf = lm.Ridge()\n",
    "\n",
    "    X = np.ascontiguousarray(X, dtype=np.float64)\n",
    "    y = np.ascontiguousarray(y, dtype=np.float64)\n",
    "\n",
    "    mse_values, cod_values = [], []\n",
    "    ml_scores = {}\n",
    "\n",
    "    print(\"ML runs: \", n_runs)\n",
    "    for i in range(n_runs):\n",
    "        (X_train, X_test, y_train, y_test) = train_test_split(\n",
    "            X, y, test_size=test_size, random_state=random_state\n",
    "        )\n",
    "        random_state += 777\n",
    "\n",
    "        with config_context(assume_finite=True):\n",
    "            model = clf.fit(X_train, y_train)\n",
    "\n",
    "        y_pred = model.predict(X_test)\n",
    "\n",
    "        mse_values.append(mse(y_test, y_pred))\n",
    "        cod_values.append(cod(y_test, y_pred))\n",
    "\n",
    "    ml_scores[\"mse_mean\"] = sum(mse_values) / len(mse_values)\n",
    "    ml_scores[\"cod_mean\"] = sum(cod_values) / len(cod_values)\n",
    "    ml_scores[\"mse_dev\"] = pow(\n",
    "        sum([(mse_value - ml_scores[\"mse_mean\"]) ** 2 for mse_value in mse_values])\n",
    "        / (len(mse_values) - 1),\n",
    "        0.5,\n",
    "    )\n",
    "    ml_scores[\"cod_dev\"] = pow(\n",
    "        sum([(cod_value - ml_scores[\"cod_mean\"]) ** 2 for cod_value in cod_values])\n",
    "        / (len(cod_values) - 1),\n",
    "        0.5,\n",
    "    )\n",
    "\n",
    "    return ml_scores\n",
    "\n",
    "\n",
    "def measure(name, func, *args, **kw):\n",
    "    t0 = time.time()\n",
    "    res = func(*args, **kw)\n",
    "    t1 = time.time()\n",
    "    print(f\"{name}: {t1 - t0} sec\")\n",
    "    return res\n",
    "\n",
    "N_RUNS = 50\n",
    "TEST_SIZE = 0.1\n",
    "RANDOM_STATE = 777"
   ]
  },
  {
   "cell_type": "code",
   "execution_count": 2,
   "id": "b1ca3980",
   "metadata": {
    "collapsed": false,
    "jupyter": {
     "outputs_hidden": false
    },
    "pycharm": {
     "name": "#%%\n"
    }
   },
   "outputs": [
    {
     "name": "stderr",
     "output_type": "stream",
     "text": [
      "FutureWarning: pandas.core.index is deprecated and will be removed in a future version.  The public classes are available in the top-level namespace.\n",
      "UserWarning: Distributing <class 'dict'> object. This may take some time.\n"
     ]
    },
    {
     "data": {
      "text/html": [
       "<div>\n",
       "<style scoped>\n",
       "    .dataframe tbody tr th:only-of-type {\n",
       "        vertical-align: middle;\n",
       "    }\n",
       "\n",
       "    .dataframe tbody tr th {\n",
       "        vertical-align: top;\n",
       "    }\n",
       "\n",
       "    .dataframe thead th {\n",
       "        text-align: right;\n",
       "    }\n",
       "</style>\n",
       "<table border=\"1\" class=\"dataframe\">\n",
       "  <thead>\n",
       "    <tr style=\"text-align: right;\">\n",
       "      <th></th>\n",
       "      <th>1</th>\n",
       "    </tr>\n",
       "  </thead>\n",
       "  <tbody>\n",
       "    <tr>\n",
       "      <th>0</th>\n",
       "      <td>2</td>\n",
       "    </tr>\n",
       "    <tr>\n",
       "      <th>1</th>\n",
       "      <td>3</td>\n",
       "    </tr>\n",
       "  </tbody>\n",
       "</table>\n",
       "</div>"
      ],
      "text/plain": [
       "   1\n",
       "0  2\n",
       "1  3"
      ]
     },
     "execution_count": 2,
     "metadata": {},
     "output_type": "execute_result"
    }
   ],
   "source": [
    "pd.DataFrame({1: [2, 3]})"
   ]
  },
  {
   "cell_type": "code",
   "execution_count": 3,
   "id": "b2b90dce-624c-4268-9391-8ad649085baa",
   "metadata": {
    "pycharm": {
     "name": "#%%\n"
    }
   },
   "outputs": [
    {
     "name": "stdout",
     "output_type": "stream",
     "text": [
      "Reading: 11.954700708389282 sec\n"
     ]
    },
    {
     "name": "stderr",
     "output_type": "stream",
     "text": [
      "Thrift: Thu Aug  5 22:50:17 2021 TSocket::open() error on socket (after THRIFT_POLL) <Host: localhost Port: 3279>: Connection refused\n",
      "Thrift: Thu Aug  5 22:50:17 2021 TSocket::open() error on socket (after THRIFT_POLL) <Host: localhost Port: 3279>: Connection refused\n",
      "Thrift: Thu Aug  5 22:50:18 2021 TSocket::open() error on socket (after THRIFT_POLL) <Host: localhost Port: 3279>: Connection refused\n",
      "Thrift: Thu Aug  5 22:50:18 2021 TSocket::open() error on socket (after THRIFT_POLL) <Host: localhost Port: 3279>: Connection refused\n",
      "Thrift: Thu Aug  5 22:50:18 2021 TSocket::open() error on socket (after THRIFT_POLL) <Host: localhost Port: 3279>: Connection refused\n",
      "Thrift: Thu Aug  5 22:50:18 2021 TSocket::open() error on socket (after THRIFT_POLL) <Host: localhost Port: 3279>: Connection refused\n",
      "Thrift: Thu Aug  5 22:50:18 2021 TSocket::open() error on socket (after THRIFT_POLL) <Host: localhost Port: 3279>: Connection refused\n",
      "Thrift: Thu Aug  5 22:50:18 2021 TSocket::open() error on socket (after THRIFT_POLL) <Host: localhost Port: 3279>: Connection refused\n"
     ]
    }
   ],
   "source": [
    "df = measure(\"Reading\", read, \"/data/census/home/gregory/work/benchmark-datasets/census/ipums_education2income_1970-2010.csv\")"
   ]
  },
  {
   "cell_type": "code",
   "execution_count": null,
   "id": "06305074",
   "metadata": {
    "collapsed": false,
    "jupyter": {
     "outputs_hidden": false
    },
    "pycharm": {
     "name": "#%%\n"
    }
   },
   "outputs": [],
   "source": [
    "_, X, y = measure(\"ETL\", etl, df)"
   ]
  },
  {
   "cell_type": "code",
   "execution_count": 1,
   "id": "0b6391cd",
   "metadata": {
    "collapsed": false,
    "jupyter": {
     "outputs_hidden": false
    },
    "pycharm": {
     "name": "#%%\n"
    }
   },
   "outputs": [
    {
     "ename": "NameError",
     "evalue": "name 'measure' is not defined",
     "output_type": "error",
     "traceback": [
      "\u001b[0;31m---------------------------------------------------------------------------\u001b[0m",
      "\u001b[0;31mNameError\u001b[0m                                 Traceback (most recent call last)",
      "\u001b[0;32m/tmp/ipykernel_6662/1004559939.py\u001b[0m in \u001b[0;36m<module>\u001b[0;34m\u001b[0m\n\u001b[0;32m----> 1\u001b[0;31m \u001b[0mmeasure\u001b[0m\u001b[0;34m(\u001b[0m\u001b[0;34m\"ML\"\u001b[0m\u001b[0;34m,\u001b[0m \u001b[0mml\u001b[0m\u001b[0;34m,\u001b[0m \u001b[0mX\u001b[0m\u001b[0;34m,\u001b[0m \u001b[0my\u001b[0m\u001b[0;34m,\u001b[0m \u001b[0mrandom_state\u001b[0m\u001b[0;34m=\u001b[0m\u001b[0mRANDOM_STATE\u001b[0m\u001b[0;34m,\u001b[0m \u001b[0mn_runs\u001b[0m\u001b[0;34m=\u001b[0m\u001b[0mN_RUNS\u001b[0m\u001b[0;34m,\u001b[0m \u001b[0mtest_size\u001b[0m\u001b[0;34m=\u001b[0m\u001b[0mTEST_SIZE\u001b[0m\u001b[0;34m)\u001b[0m\u001b[0;34m\u001b[0m\u001b[0;34m\u001b[0m\u001b[0m\n\u001b[0m",
      "\u001b[0;31mNameError\u001b[0m: name 'measure' is not defined"
     ]
    }
   ],
   "source": [
    "measure(\"ML\", ml, X, y, random_state=RANDOM_STATE, n_runs=N_RUNS, test_size=TEST_SIZE)"
   ]
  },
  {
   "cell_type": "code",
   "execution_count": null,
   "id": "7dd14948-1780-4ae3-bcf1-3a1f2937f8cd",
   "metadata": {},
   "outputs": [],
   "source": []
  }
 ],
 "metadata": {
  "kernelspec": {
   "display_name": "Python 3 (ipykernel)",
   "language": "python",
   "name": "python3"
  },
  "language_info": {
   "codemirror_mode": {
    "name": "ipython",
    "version": 3
   },
   "file_extension": ".py",
   "mimetype": "text/x-python",
   "name": "python",
   "nbconvert_exporter": "python",
   "pygments_lexer": "ipython3",
   "version": "3.7.10"
  }
 },
 "nbformat": 4,
 "nbformat_minor": 5
}
